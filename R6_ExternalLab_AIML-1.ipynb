{
 "cells": [
  {
   "cell_type": "markdown",
   "metadata": {
    "colab_type": "text",
    "id": "YYk8NG3yOIT9"
   },
   "source": [
    "### A MNIST-like fashion product database\n",
    "\n",
    "In this, we classify the images into respective classes given in the dataset. We use a Neural Net and a Deep Neural Net in Keras to solve this and check the accuracy scores."
   ]
  },
  {
   "cell_type": "markdown",
   "metadata": {
    "colab_type": "text",
    "id": "tFO6PuxzOIT_"
   },
   "source": [
    "### Load tensorflow"
   ]
  },
  {
   "cell_type": "code",
   "execution_count": 1,
   "metadata": {
    "colab": {
     "base_uri": "https://localhost:8080/",
     "height": 34
    },
    "colab_type": "code",
    "executionInfo": {
     "elapsed": 3971,
     "status": "ok",
     "timestamp": 1576313478769,
     "user": {
      "displayName": "Farha S",
      "photoUrl": "",
      "userId": "06627169353678613371"
     },
     "user_tz": -330
    },
    "id": "YeGuT6YnGZRS",
    "outputId": "2d5a0af9-884e-455a-8238-1ddd5a8ce91c"
   },
   "outputs": [
    {
     "name": "stdout",
     "output_type": "stream",
     "text": [
      "TensorFlow 2.x selected.\n"
     ]
    }
   ],
   "source": [
    "%tensorflow_version 2.x"
   ]
  },
  {
   "cell_type": "code",
   "execution_count": 0,
   "metadata": {
    "colab": {},
    "colab_type": "code",
    "id": "efNjNImfOIUC"
   },
   "outputs": [],
   "source": [
    "import tensorflow as tf\n",
    "#tf.set_random_seed(42)"
   ]
  },
  {
   "cell_type": "code",
   "execution_count": 3,
   "metadata": {
    "colab": {
     "base_uri": "https://localhost:8080/",
     "height": 34
    },
    "colab_type": "code",
    "executionInfo": {
     "elapsed": 9870,
     "status": "ok",
     "timestamp": 1576313484769,
     "user": {
      "displayName": "Farha S",
      "photoUrl": "",
      "userId": "06627169353678613371"
     },
     "user_tz": -330
    },
    "id": "l9C4aAIGOIUH",
    "outputId": "2b9c81fe-79c2-4204-ba9e-bca232c33af5"
   },
   "outputs": [
    {
     "data": {
      "text/plain": [
       "'2.0.0'"
      ]
     },
     "execution_count": 3,
     "metadata": {
      "tags": []
     },
     "output_type": "execute_result"
    }
   ],
   "source": [
    "tf.__version__"
   ]
  },
  {
   "cell_type": "markdown",
   "metadata": {
    "colab_type": "text",
    "id": "HcoZBStrOIUQ"
   },
   "source": [
    "### Collect Data"
   ]
  },
  {
   "cell_type": "code",
   "execution_count": 4,
   "metadata": {
    "colab": {
     "base_uri": "https://localhost:8080/",
     "height": 34
    },
    "colab_type": "code",
    "executionInfo": {
     "elapsed": 9834,
     "status": "ok",
     "timestamp": 1576313484775,
     "user": {
      "displayName": "Farha S",
      "photoUrl": "",
      "userId": "06627169353678613371"
     },
     "user_tz": -330
    },
    "id": "XA1WsFSeOIUS",
    "outputId": "f96b8030-40c1-42c9-b13a-a7cf03ef0950"
   },
   "outputs": [
    {
     "name": "stderr",
     "output_type": "stream",
     "text": [
      "Using TensorFlow backend.\n"
     ]
    }
   ],
   "source": [
    "import keras"
   ]
  },
  {
   "cell_type": "code",
   "execution_count": 5,
   "metadata": {
    "colab": {
     "base_uri": "https://localhost:8080/",
     "height": 204
    },
    "colab_type": "code",
    "executionInfo": {
     "elapsed": 14160,
     "status": "ok",
     "timestamp": 1576313489155,
     "user": {
      "displayName": "Farha S",
      "photoUrl": "",
      "userId": "06627169353678613371"
     },
     "user_tz": -330
    },
    "id": "qnbx7TyQOIUY",
    "outputId": "3b4eeaf8-2f67-4d64-defd-e655285cfe97"
   },
   "outputs": [
    {
     "name": "stdout",
     "output_type": "stream",
     "text": [
      "Downloading data from http://fashion-mnist.s3-website.eu-central-1.amazonaws.com/train-labels-idx1-ubyte.gz\n",
      "32768/29515 [=================================] - 0s 3us/step\n",
      "40960/29515 [=========================================] - 0s 3us/step\n",
      "Downloading data from http://fashion-mnist.s3-website.eu-central-1.amazonaws.com/train-images-idx3-ubyte.gz\n",
      "26427392/26421880 [==============================] - 2s 0us/step\n",
      "26435584/26421880 [==============================] - 2s 0us/step\n",
      "Downloading data from http://fashion-mnist.s3-website.eu-central-1.amazonaws.com/t10k-labels-idx1-ubyte.gz\n",
      "16384/5148 [===============================================================================================] - 0s 0us/step\n",
      "Downloading data from http://fashion-mnist.s3-website.eu-central-1.amazonaws.com/t10k-images-idx3-ubyte.gz\n",
      "4423680/4422102 [==============================] - 1s 0us/step\n",
      "4431872/4422102 [==============================] - 1s 0us/step\n"
     ]
    }
   ],
   "source": [
    "(trainX, trainY), (testX, testY) = keras.datasets.fashion_mnist.load_data()"
   ]
  },
  {
   "cell_type": "code",
   "execution_count": 6,
   "metadata": {
    "colab": {
     "base_uri": "https://localhost:8080/",
     "height": 34
    },
    "colab_type": "code",
    "executionInfo": {
     "elapsed": 14123,
     "status": "ok",
     "timestamp": 1576313489160,
     "user": {
      "displayName": "Farha S",
      "photoUrl": "",
      "userId": "06627169353678613371"
     },
     "user_tz": -330
    },
    "id": "UbiHj5YPOIUc",
    "outputId": "5fff3293-d213-4ae8-a66c-aa09226290b7"
   },
   "outputs": [
    {
     "name": "stdout",
     "output_type": "stream",
     "text": [
      "[9 2 1 1 6]\n"
     ]
    }
   ],
   "source": [
    "print(testY[0:5])"
   ]
  },
  {
   "cell_type": "markdown",
   "metadata": {
    "colab_type": "text",
    "id": "lDAYzkwyOIUj"
   },
   "source": [
    "### Convert both training and testing labels into one-hot vectors.\n",
    "\n",
    "**Hint:** check **tf.keras.utils.to_categorical()**"
   ]
  },
  {
   "cell_type": "code",
   "execution_count": 0,
   "metadata": {
    "colab": {},
    "colab_type": "code",
    "id": "vBlfYlANOIUk"
   },
   "outputs": [],
   "source": [
    "trainY = tf.keras.utils.to_categorical(trainY, num_classes=10)\n",
    "testY = tf.keras.utils.to_categorical(testY, num_classes=10)"
   ]
  },
  {
   "cell_type": "code",
   "execution_count": 8,
   "metadata": {
    "colab": {
     "base_uri": "https://localhost:8080/",
     "height": 119
    },
    "colab_type": "code",
    "executionInfo": {
     "elapsed": 14085,
     "status": "ok",
     "timestamp": 1576313489167,
     "user": {
      "displayName": "Farha S",
      "photoUrl": "",
      "userId": "06627169353678613371"
     },
     "user_tz": -330
    },
    "id": "RHV3b9mzOIUq",
    "outputId": "c5298de2-2ca8-4372-a5eb-af17cbbab659",
    "scrolled": true
   },
   "outputs": [
    {
     "name": "stdout",
     "output_type": "stream",
     "text": [
      "(60000, 10)\n",
      "('First 5 examples now are: ', array([[0., 0., 0., 0., 0., 0., 0., 0., 0., 1.],\n",
      "       [1., 0., 0., 0., 0., 0., 0., 0., 0., 0.],\n",
      "       [1., 0., 0., 0., 0., 0., 0., 0., 0., 0.],\n",
      "       [0., 0., 0., 1., 0., 0., 0., 0., 0., 0.],\n",
      "       [1., 0., 0., 0., 0., 0., 0., 0., 0., 0.]], dtype=float32))\n"
     ]
    }
   ],
   "source": [
    "print(trainY.shape)\n",
    "print('First 5 examples now are: ', trainY[0:5])"
   ]
  },
  {
   "cell_type": "markdown",
   "metadata": {
    "colab_type": "text",
    "id": "FwhQ8e7VOIUw"
   },
   "source": [
    "### Visualize the data\n",
    "\n",
    "Plot first 10 images in the triaining set and their labels."
   ]
  },
  {
   "cell_type": "code",
   "execution_count": 9,
   "metadata": {
    "colab": {
     "base_uri": "https://localhost:8080/",
     "height": 269
    },
    "colab_type": "code",
    "executionInfo": {
     "elapsed": 15958,
     "status": "ok",
     "timestamp": 1576313491074,
     "user": {
      "displayName": "Farha S",
      "photoUrl": "",
      "userId": "06627169353678613371"
     },
     "user_tz": -330
    },
    "id": "AvDML2OoOIUx",
    "outputId": "49204d1f-ad07-4858-b597-ad058f00f45e"
   },
   "outputs": [
    {
     "data": {
      "image/png": "[encoded data removed]",
      "text/plain": [
       "<Figure size 432x288 with 9 Axes>"
      ]
     },
     "metadata": {
      "tags": []
     },
     "output_type": "display_data"
    }
   ],
   "source": [
    "from matplotlib import pyplot\n",
    "for i in range(9):\n",
    "  pyplot.subplot(330 + 1 + i)\n",
    "  pyplot.imshow(trainX[i],cmap =pyplot.get_cmap('gray'))\n",
    "\n",
    "pyplot.show()"
   ]
  },
  {
   "cell_type": "markdown",
   "metadata": {
    "colab_type": "text",
    "id": "l4TbJGeSOIU4"
   },
   "source": [
    "### Build a neural Network with a cross entropy loss function and sgd optimizer in Keras. The output layer with 10 neurons as we have 10 classes."
   ]
  },
  {
   "cell_type": "code",
   "execution_count": 0,
   "metadata": {
    "colab": {},
    "colab_type": "code",
    "id": "Ac06XZZTOIU6"
   },
   "outputs": [],
   "source": [
    "# Initialize Sequential model\n",
    "model = tf.keras.models.Sequential()\n",
    "\n",
    "# Normalize input data\n",
    "model.add(tf.keras.layers.Reshape((784,),input_shape=(28,28,)))\n",
    "\n",
    "# Add Dense layer for prediction - Keras declares weights and bias automatically\n",
    "model.add(tf.keras.layers.Dense(10,activation='softmax'))"
   ]
  },
  {
   "cell_type": "code",
   "execution_count": 0,
   "metadata": {
    "colab": {},
    "colab_type": "code",
    "id": "DM1tIROnMdv-"
   },
   "outputs": [],
   "source": [
    "# Comile the model\n",
    "model.compile(optimizer='sgd', loss='categorical_crossentropy', metrics=['accuracy'])"
   ]
  },
  {
   "cell_type": "markdown",
   "metadata": {
    "colab_type": "text",
    "id": "3hQpLv3aOIU_"
   },
   "source": [
    "### Execute the model using model.fit()"
   ]
  },
  {
   "cell_type": "code",
   "execution_count": 12,
   "metadata": {
    "colab": {
     "base_uri": "https://localhost:8080/",
     "height": 411
    },
    "colab_type": "code",
    "executionInfo": {
     "elapsed": 20092,
     "status": "ok",
     "timestamp": 1576313495273,
     "user": {
      "displayName": "Farha S",
      "photoUrl": "",
      "userId": "06627169353678613371"
     },
     "user_tz": -330
    },
    "id": "O59C_-IgOIVB",
    "outputId": "e9cc3063-955a-4530-8bc8-7d6dc8a66aa9"
   },
   "outputs": [
    {
     "name": "stdout",
     "output_type": "stream",
     "text": [
      "Train on 60000 samples, validate on 10000 samples\n",
      "Epoch 1/10\n",
      "60000/60000 [==============================] - 2s 27us/sample - loss: 353.9825 - accuracy: 0.1067 - val_loss: 5888.5537 - val_accuracy: 0.1729\n",
      "Epoch 2/10\n",
      "60000/60000 [==============================] - 0s 7us/sample - loss: 5867.3394 - accuracy: 0.1758 - val_loss: 13522.2109 - val_accuracy: 0.3181\n",
      "Epoch 3/10\n",
      "60000/60000 [==============================] - 0s 6us/sample - loss: 13448.1660 - accuracy: 0.3200 - val_loss: 18944.9180 - val_accuracy: 0.1304\n",
      "Epoch 4/10\n",
      "60000/60000 [==============================] - 0s 6us/sample - loss: 18890.8496 - accuracy: 0.1331 - val_loss: 18502.0762 - val_accuracy: 0.2754\n",
      "Epoch 5/10\n",
      "60000/60000 [==============================] - 0s 7us/sample - loss: 18457.5996 - accuracy: 0.2731 - val_loss: 18183.0781 - val_accuracy: 0.2819\n",
      "Epoch 6/10\n",
      "60000/60000 [==============================] - 0s 6us/sample - loss: 18092.9062 - accuracy: 0.2867 - val_loss: 14624.8252 - val_accuracy: 0.2714\n",
      "Epoch 7/10\n",
      "60000/60000 [==============================] - 0s 6us/sample - loss: 14556.6123 - accuracy: 0.2740 - val_loss: 14585.2383 - val_accuracy: 0.2711\n",
      "Epoch 8/10\n",
      "60000/60000 [==============================] - 0s 6us/sample - loss: 14487.8477 - accuracy: 0.2701 - val_loss: 14946.7939 - val_accuracy: 0.2043\n",
      "Epoch 9/10\n",
      "60000/60000 [==============================] - 0s 6us/sample - loss: 14865.3477 - accuracy: 0.2040 - val_loss: 10357.3857 - val_accuracy: 0.3262\n",
      "Epoch 10/10\n",
      "60000/60000 [==============================] - 0s 6us/sample - loss: 10277.0879 - accuracy: 0.3341 - val_loss: 9357.4512 - val_accuracy: 0.3982\n"
     ]
    },
    {
     "data": {
      "text/plain": [
       "<tensorflow.python.keras.callbacks.History at 0x7fae2f2e0790>"
      ]
     },
     "execution_count": 12,
     "metadata": {
      "tags": []
     },
     "output_type": "execute_result"
    }
   ],
   "source": [
    "model.fit(trainX, trainY, validation_data=(testX, testY), epochs=10,\n",
    "          batch_size = trainX.shape[0])"
   ]
  },
  {
   "cell_type": "markdown",
   "metadata": {
    "colab_type": "text",
    "id": "JdzDtGwDOIVF"
   },
   "source": [
    "### In the above Neural Network model add Batch Normalization layer after the input layer and repeat the steps."
   ]
  },
  {
   "cell_type": "code",
   "execution_count": 0,
   "metadata": {
    "colab": {},
    "colab_type": "code",
    "id": "kndfpdidOIVI"
   },
   "outputs": [],
   "source": [
    "\n",
    "# Normalize the data\n",
    "model.add(tf.keras.layers.BatchNormalization())\n",
    "\n",
    "# Add Dense Layer which provides 10 Outputs after applying softmax\n",
    "model.add(tf.keras.layers.Dense(10, activation='softmax'))"
   ]
  },
  {
   "cell_type": "code",
   "execution_count": 0,
   "metadata": {
    "colab": {},
    "colab_type": "code",
    "id": "6O3rlviWNNwC"
   },
   "outputs": [],
   "source": [
    "# Comile the model\n",
    "model.compile(optimizer='sgd', loss='categorical_crossentropy', metrics=['accuracy'])"
   ]
  },
  {
   "cell_type": "markdown",
   "metadata": {
    "colab_type": "text",
    "id": "mwk3T5LJOIVN"
   },
   "source": [
    "### Execute the model"
   ]
  },
  {
   "cell_type": "code",
   "execution_count": 15,
   "metadata": {
    "colab": {
     "base_uri": "https://localhost:8080/",
     "height": 391
    },
    "colab_type": "code",
    "executionInfo": {
     "elapsed": 26003,
     "status": "ok",
     "timestamp": 1576313501244,
     "user": {
      "displayName": "Farha S",
      "photoUrl": "",
      "userId": "06627169353678613371"
     },
     "user_tz": -330
    },
    "id": "JNLR8tcBOIVP",
    "outputId": "5a2535bd-ea3a-4923-a2fd-fc6b41140959"
   },
   "outputs": [
    {
     "name": "stdout",
     "output_type": "stream",
     "text": [
      "Train on 60000 samples, validate on 10000 samples\n",
      "Epoch 1/10\n",
      "60000/60000 [==============================] - 1s 17us/sample - loss: 2.5466 - accuracy: 0.1309 - val_loss: 2.3487 - val_accuracy: 0.0542\n",
      "Epoch 2/10\n",
      "60000/60000 [==============================] - 0s 7us/sample - loss: 2.5426 - accuracy: 0.1310 - val_loss: 2.3478 - val_accuracy: 0.0542\n",
      "Epoch 3/10\n",
      "60000/60000 [==============================] - 0s 7us/sample - loss: 2.5390 - accuracy: 0.1310 - val_loss: 2.3468 - val_accuracy: 0.0542\n",
      "Epoch 4/10\n",
      "60000/60000 [==============================] - 0s 7us/sample - loss: 2.5353 - accuracy: 0.1311 - val_loss: 2.3459 - val_accuracy: 0.0542\n",
      "Epoch 5/10\n",
      "60000/60000 [==============================] - 0s 7us/sample - loss: 2.5316 - accuracy: 0.1311 - val_loss: 2.3449 - val_accuracy: 0.0542\n",
      "Epoch 6/10\n",
      "60000/60000 [==============================] - 0s 6us/sample - loss: 2.5279 - accuracy: 0.1311 - val_loss: 2.3439 - val_accuracy: 0.0542\n",
      "Epoch 7/10\n",
      "60000/60000 [==============================] - 0s 7us/sample - loss: 2.5242 - accuracy: 0.1312 - val_loss: 2.3430 - val_accuracy: 0.0543\n",
      "Epoch 8/10\n",
      "60000/60000 [==============================] - 0s 7us/sample - loss: 2.5205 - accuracy: 0.1313 - val_loss: 2.3419 - val_accuracy: 0.0545\n",
      "Epoch 9/10\n",
      "60000/60000 [==============================] - 0s 8us/sample - loss: 2.5168 - accuracy: 0.1314 - val_loss: 2.3410 - val_accuracy: 0.0545\n",
      "Epoch 10/10\n",
      "60000/60000 [==============================] - 0s 7us/sample - loss: 2.5133 - accuracy: 0.1314 - val_loss: 2.3401 - val_accuracy: 0.0545\n"
     ]
    },
    {
     "data": {
      "text/plain": [
       "<tensorflow.python.keras.callbacks.History at 0x7fae2e15ed90>"
      ]
     },
     "execution_count": 15,
     "metadata": {
      "tags": []
     },
     "output_type": "execute_result"
    }
   ],
   "source": [
    "model.fit(trainX, trainY, validation_data=(testX, testY), epochs=10,\n",
    "          batch_size = trainX.shape[0])"
   ]
  },
  {
   "cell_type": "markdown",
   "metadata": {
    "colab_type": "text",
    "id": "Py-KwkmjOIVU"
   },
   "source": [
    "### Customize the learning rate to 0.001 in sgd optimizer and run the model"
   ]
  },
  {
   "cell_type": "code",
   "execution_count": 0,
   "metadata": {
    "colab": {},
    "colab_type": "code",
    "id": "yLXUE9jWOIVV"
   },
   "outputs": [],
   "source": [
    "opt=tf.keras.optimizers.SGD(lr=0.001)\n",
    "model_opt=tf.keras.models.Sequential()\n",
    "\n",
    "# Normalize input data\n",
    "model_opt.add(tf.keras.layers.Reshape((784,),input_shape=(28,28,)))\n",
    "\n",
    "# Add Dense layer for prediction - Keras declares weights and bias automatically\n",
    "model_opt.add(tf.keras.layers.Dense(10,activation='softmax'))\n",
    "# Comile the model\n",
    "model_opt.compile(optimizer=opt, loss='categorical_crossentropy', metrics=['accuracy'])"
   ]
  },
  {
   "cell_type": "code",
   "execution_count": 22,
   "metadata": {
    "colab": {
     "base_uri": "https://localhost:8080/",
     "height": 68
    },
    "colab_type": "code",
    "executionInfo": {
     "elapsed": 5622,
     "status": "ok",
     "timestamp": 1576314475664,
     "user": {
      "displayName": "Farha S",
      "photoUrl": "",
      "userId": "06627169353678613371"
     },
     "user_tz": -330
    },
    "id": "pJUqA5T4OIVc",
    "outputId": "e4f98330-4ca0-4532-890f-46839ddefb95"
   },
   "outputs": [
    {
     "name": "stdout",
     "output_type": "stream",
     "text": [
      "Train on 60000 samples, validate on 10000 samples\n",
      "60000/60000 [==============================] - 4s 68us/sample - loss: 206.8360 - accuracy: 0.7385 - val_loss: 125.0776 - val_accuracy: 0.7834\n"
     ]
    },
    {
     "data": {
      "text/plain": [
       "<tensorflow.python.keras.callbacks.History at 0x7fae2caa7fd0>"
      ]
     },
     "execution_count": 22,
     "metadata": {
      "tags": []
     },
     "output_type": "execute_result"
    }
   ],
   "source": [
    "model_opt.fit(trainX, trainY, validation_data=(testX, testY))"
   ]
  },
  {
   "cell_type": "markdown",
   "metadata": {
    "colab_type": "text",
    "id": "j9CSqKvpOIVk"
   },
   "source": [
    "### Build the Neural Network model with 3 Dense layers with 100,100,10 neurons respectively in each layer. Use cross entropy loss function and singmoid as activation in the hidden layers and softmax as activation function in the output layer. Use sgd optimizer with learning rate 0.03."
   ]
  },
  {
   "cell_type": "code",
   "execution_count": 0,
   "metadata": {
    "colab": {},
    "colab_type": "code",
    "id": "GGAad54JOIVm"
   },
   "outputs": [],
   "source": [
    "optsgd=tf.keras.optimizers.SGD(lr=0.001)\n",
    "model_opt_3=tf.keras.models.Sequential()\n",
    "\n",
    "model_opt_3.add(tf.keras.layers.Reshape((784,),input_shape=(28,28,)))\n",
    "# Normalize the data\n",
    "model_opt_3.add(tf.keras.layers.BatchNormalization())\n",
    "# Add Dense layer for prediction - Keras declares weights and bias automatically\n",
    "model_opt_3.add(tf.keras.layers.Dense(100,activation='sigmoid'))\n",
    "model_opt_3.add(tf.keras.layers.Dense(100,activation='sigmoid'))\n",
    "model_opt_3.add(tf.keras.layers.Dense(10,activation='softmax'))\n",
    "# Comile the model\n",
    "model_opt_3.compile(optimizer=optsgd, loss='categorical_crossentropy', metrics=['accuracy'])"
   ]
  },
  {
   "cell_type": "markdown",
   "metadata": {
    "colab_type": "text",
    "id": "Nr2YsZV0OIV0"
   },
   "source": [
    "## Review model"
   ]
  },
  {
   "cell_type": "code",
   "execution_count": 25,
   "metadata": {
    "colab": {
     "base_uri": "https://localhost:8080/",
     "height": 323
    },
    "colab_type": "code",
    "executionInfo": {
     "elapsed": 1537,
     "status": "ok",
     "timestamp": 1576314559295,
     "user": {
      "displayName": "Farha S",
      "photoUrl": "",
      "userId": "06627169353678613371"
     },
     "user_tz": -330
    },
    "id": "h4ojW6-oOIV2",
    "outputId": "d9db422b-2287-4039-e2d6-390e02455c9b"
   },
   "outputs": [
    {
     "name": "stdout",
     "output_type": "stream",
     "text": [
      "Model: \"sequential_4\"\n",
      "_________________________________________________________________\n",
      "Layer (type)                 Output Shape              Param #   \n",
      "=================================================================\n",
      "reshape_4 (Reshape)          (None, 784)               0         \n",
      "_________________________________________________________________\n",
      "batch_normalization_2 (Batch (None, 784)               3136      \n",
      "_________________________________________________________________\n",
      "dense_7 (Dense)              (None, 100)               78500     \n",
      "_________________________________________________________________\n",
      "dense_8 (Dense)              (None, 100)               10100     \n",
      "_________________________________________________________________\n",
      "dense_9 (Dense)              (None, 10)                1010      \n",
      "=================================================================\n",
      "Total params: 92,746\n",
      "Trainable params: 91,178\n",
      "Non-trainable params: 1,568\n",
      "_________________________________________________________________\n"
     ]
    }
   ],
   "source": [
    "model_opt_3.summary()"
   ]
  },
  {
   "cell_type": "markdown",
   "metadata": {
    "colab_type": "text",
    "id": "gfFGmbZLOIV5"
   },
   "source": [
    "### Run the model"
   ]
  },
  {
   "cell_type": "code",
   "execution_count": 26,
   "metadata": {
    "colab": {
     "base_uri": "https://localhost:8080/",
     "height": 68
    },
    "colab_type": "code",
    "executionInfo": {
     "elapsed": 8781,
     "status": "ok",
     "timestamp": 1576314613591,
     "user": {
      "displayName": "Farha S",
      "photoUrl": "",
      "userId": "06627169353678613371"
     },
     "user_tz": -330
    },
    "id": "bIkbMEN5OIV7",
    "outputId": "57b07695-434c-4517-de6b-b72caa4f9afc"
   },
   "outputs": [
    {
     "name": "stdout",
     "output_type": "stream",
     "text": [
      "Train on 60000 samples, validate on 10000 samples\n",
      "60000/60000 [==============================] - 7s 124us/sample - loss: 2.2205 - accuracy: 0.2659 - val_loss: 2.1072 - val_accuracy: 0.4341\n"
     ]
    },
    {
     "data": {
      "text/plain": [
       "<tensorflow.python.keras.callbacks.History at 0x7fae2a387090>"
      ]
     },
     "execution_count": 26,
     "metadata": {
      "tags": []
     },
     "output_type": "execute_result"
    }
   ],
   "source": [
    "model_opt_3.fit(trainX, trainY, validation_data=(testX, testY))"
   ]
  }
 ],
 "metadata": {
  "colab": {
   "collapsed_sections": [],
   "name": "R6_ExternalLab_AIML-1.ipynb",
   "provenance": []
  },
  "kernelspec": {
   "display_name": "Python 3",
   "language": "python",
   "name": "python3"
  },
  "language_info": {
   "codemirror_mode": {
    "name": "ipython",
    "version": 3
   },
   "file_extension": ".py",
   "mimetype": "text/x-python",
   "name": "python",
   "nbconvert_exporter": "python",
   "pygments_lexer": "ipython3",
   "version": "3.7.3"
  }
 },
 "nbformat": 4,
 "nbformat_minor": 1
}
